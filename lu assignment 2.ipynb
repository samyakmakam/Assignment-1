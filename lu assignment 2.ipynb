{
 "cells": [
  {
   "cell_type": "code",
   "execution_count": 52,
   "metadata": {},
   "outputs": [
    {
     "name": "stdout",
     "output_type": "stream",
     "text": [
      "1\n",
      "2\n",
      "3\n",
      "4\n",
      "5\n",
      "6\n",
      "7\n",
      "8\n",
      "9\n",
      "10\n"
     ]
    },
    {
     "data": {
      "text/plain": [
       "['2', '4', '6', '8', '10']"
      ]
     },
     "execution_count": 52,
     "metadata": {},
     "output_type": "execute_result"
    }
   ],
   "source": [
    "##### 1st Question\n",
    "x=[]\n",
    "j=0\n",
    "for j in range(10):\n",
    "    x.append(input())\n",
    "y=[]\n",
    "for i in range(10):\n",
    "    if(int(x[i])%2==0):\n",
    "        y.append(x[i])\n",
    "y"
   ]
  },
  {
   "cell_type": "code",
   "execution_count": 35,
   "metadata": {},
   "outputs": [
    {
     "data": {
      "text/plain": [
       "['s', 'a', 'm', 'y', 'a', 'k']"
      ]
     },
     "execution_count": 35,
     "metadata": {},
     "output_type": "execute_result"
    }
   ],
   "source": [
    "#### 2nd Question\n",
    "#list comprehension is a method which allows us to create a new and efficient lists in short and precise way.\n",
    "s=[i for i in 'samyak']\n",
    "s"
   ]
  },
  {
   "cell_type": "code",
   "execution_count": 37,
   "metadata": {},
   "outputs": [
    {
     "data": {
      "text/plain": [
       "[1, 4, 9, 16, 25, 36, 49, 64, 81]"
      ]
     },
     "execution_count": 37,
     "metadata": {},
     "output_type": "execute_result"
    }
   ],
   "source": [
    "a=[x**2 for x in range(1,10)]     ###to print the squares of first 10 natural numbers\n",
    "a"
   ]
  },
  {
   "cell_type": "code",
   "execution_count": 36,
   "metadata": {},
   "outputs": [
    {
     "name": "stdout",
     "output_type": "stream",
     "text": [
      "Output List using list comprehensions: [0, 2, 4, 6, 8]\n"
     ]
    }
   ],
   "source": [
    "comp = [var for var in range(10) if var % 2 == 0] \n",
    "  \n",
    "print(\"Output List using list comprehensions:\", comp) "
   ]
  },
  {
   "cell_type": "code",
   "execution_count": 45,
   "metadata": {},
   "outputs": [
    {
     "name": "stdout",
     "output_type": "stream",
     "text": [
      "8\n"
     ]
    },
    {
     "data": {
      "text/plain": [
       "{1: 1, 2: 4, 3: 9, 4: 16, 5: 25, 6: 36, 7: 49, 8: 64}"
      ]
     },
     "execution_count": 45,
     "metadata": {},
     "output_type": "execute_result"
    }
   ],
   "source": [
    "#### 3rd Question\n",
    "d={}\n",
    "n=eval(input())\n",
    "for i in range(1,n+1):\n",
    "    d.update({i:i*i})\n",
    "d"
   ]
  },
  {
   "cell_type": "code",
   "execution_count": 51,
   "metadata": {},
   "outputs": [
    {
     "name": "stdout",
     "output_type": "stream",
     "text": [
      "4\n",
      "UP 5\n",
      "DOWN 3\n",
      "LEFT 3\n",
      "RIGHT 2\n"
     ]
    },
    {
     "data": {
      "text/plain": [
       "2"
      ]
     },
     "execution_count": 51,
     "metadata": {},
     "output_type": "execute_result"
    }
   ],
   "source": [
    "#### 4th Question\n",
    "import math as m\n",
    "x=0\n",
    "y=0\n",
    "n=eval(input())\n",
    "while(n>0):\n",
    "    str=input()\n",
    "    a=str.split()\n",
    "    if (a[0]=='UP'):\n",
    "        y=y+int(a[1])\n",
    "    elif (a[0]=='DOWN'):\n",
    "        y=y-int(a[1])\n",
    "    elif(a[0]=='RIGHT'):\n",
    "        x=x+int(a[1])\n",
    "    elif(a[0]=='LEFT'):\n",
    "        x=x-int(a[1])\n",
    "    n=n-1\n",
    "dist=int(m.sqrt((x**2)+(y**2)))\n",
    "dist"
   ]
  },
  {
   "cell_type": "code",
   "execution_count": null,
   "metadata": {},
   "outputs": [],
   "source": []
  }
 ],
 "metadata": {
  "kernelspec": {
   "display_name": "Python 3",
   "language": "python",
   "name": "python3"
  },
  "language_info": {
   "codemirror_mode": {
    "name": "ipython",
    "version": 3
   },
   "file_extension": ".py",
   "mimetype": "text/x-python",
   "name": "python",
   "nbconvert_exporter": "python",
   "pygments_lexer": "ipython3",
   "version": "3.7.6"
  }
 },
 "nbformat": 4,
 "nbformat_minor": 4
}
